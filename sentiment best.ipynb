{
  "cells": [
    {
      "cell_type": "code",
      "execution_count": 27,
      "id": "77d734b6",
      "metadata": {
        "id": "77d734b6"
      },
      "outputs": [],
      "source": [
        "import nltk\n",
        "import pickle"
      ]
    },
    {
      "cell_type": "code",
      "execution_count": 2,
      "id": "26b96ed8",
      "metadata": {
        "colab": {
          "base_uri": "https://localhost:8080/"
        },
        "id": "26b96ed8",
        "outputId": "bff2b8eb-5b1b-4d2e-d461-e83744711250"
      },
      "outputs": [
        {
          "name": "stderr",
          "output_type": "stream",
          "text": [
            "[nltk_data] Downloading package twitter_samples to /root/nltk_data...\n",
            "[nltk_data]   Unzipping corpora/twitter_samples.zip.\n"
          ]
        },
        {
          "data": {
            "text/plain": [
              "True"
            ]
          },
          "execution_count": 2,
          "metadata": {},
          "output_type": "execute_result"
        }
      ],
      "source": [
        "nltk.download('twitter_samples')"
      ]
    },
    {
      "cell_type": "code",
      "execution_count": 3,
      "id": "d17d5317",
      "metadata": {
        "id": "d17d5317"
      },
      "outputs": [],
      "source": [
        "from nltk.corpus import twitter_samples\n",
        "positive_tweets = twitter_samples.strings('positive_tweets.json')\n",
        "negative_tweets = twitter_samples.strings('negative_tweets.json')\n",
        "text = twitter_samples.strings('tweets.20150430-223406.json')"
      ]
    },
    {
      "cell_type": "code",
      "execution_count": null,
      "id": "c6946f32",
      "metadata": {
        "colab": {
          "base_uri": "https://localhost:8080/"
        },
        "id": "c6946f32",
        "outputId": "98335219-b931-42c8-ec07-8d8b34b7acdf"
      },
      "outputs": [
        {
          "name": "stdout",
          "output_type": "stream",
          "text": [
            "#FollowFriday @France_Inte @PKuchly57 @Milipol_Paris for being top engaged members in my community this week :)\n",
            "hopeless for tmr :(\n",
            "RT @KirkKus: Indirect cost of the UK being in the EU is estimated to be costing Britain £170 billion per year! #BetterOffOut #UKIP\n",
            "30000\n"
          ]
        }
      ],
      "source": [
        "print(positive_tweets[0])\n",
        "print(negative_tweets[0])\n",
        "print(text[0])\n",
        "print(len(positive_tweets)+len(negative_tweets)+len(text))"
      ]
    },
    {
      "cell_type": "code",
      "execution_count": 5,
      "id": "8f50778c",
      "metadata": {
        "colab": {
          "base_uri": "https://localhost:8080/"
        },
        "id": "8f50778c",
        "outputId": "b174789f-6ce3-4a7e-a9d1-08bc0f8e6ea4"
      },
      "outputs": [
        {
          "name": "stderr",
          "output_type": "stream",
          "text": [
            "[nltk_data] Downloading package punkt to /root/nltk_data...\n",
            "[nltk_data]   Unzipping tokenizers/punkt.zip.\n"
          ]
        },
        {
          "data": {
            "text/plain": [
              "True"
            ]
          },
          "execution_count": 5,
          "metadata": {},
          "output_type": "execute_result"
        }
      ],
      "source": [
        "import nltk\n",
        "nltk.download('punkt')"
      ]
    },
    {
      "cell_type": "code",
      "execution_count": 6,
      "id": "f93635a7",
      "metadata": {
        "colab": {
          "base_uri": "https://localhost:8080/"
        },
        "id": "f93635a7",
        "outputId": "dba3b360-bef8-458f-be34-02ab9aed5a54"
      },
      "outputs": [
        {
          "name": "stdout",
          "output_type": "stream",
          "text": [
            "['#FollowFriday', '@France_Inte', '@PKuchly57', '@Milipol_Paris', 'for', 'being', 'top', 'engaged', 'members', 'in', 'my', 'community', 'this', 'week', ':)']\n"
          ]
        }
      ],
      "source": [
        "from nltk.corpus import twitter_samples\n",
        "\n",
        "positive_tweets = twitter_samples.strings('positive_tweets.json')\n",
        "negative_tweets = twitter_samples.strings('negative_tweets.json')\n",
        "text = twitter_samples.strings('tweets.20150430-223406.json')\n",
        "tweet_tokens = twitter_samples.tokenized('positive_tweets.json')[0]\n",
        "\n",
        "print(tweet_tokens)"
      ]
    },
    {
      "cell_type": "code",
      "execution_count": 7,
      "id": "265d2672",
      "metadata": {
        "colab": {
          "base_uri": "https://localhost:8080/"
        },
        "id": "265d2672",
        "outputId": "83971be9-87ff-4c66-d55d-01a8018f3db1"
      },
      "outputs": [
        {
          "name": "stderr",
          "output_type": "stream",
          "text": [
            "[nltk_data] Downloading package wordnet to /root/nltk_data...\n",
            "[nltk_data] Downloading package averaged_perceptron_tagger to\n",
            "[nltk_data]     /root/nltk_data...\n",
            "[nltk_data]   Unzipping taggers/averaged_perceptron_tagger.zip.\n"
          ]
        },
        {
          "data": {
            "text/plain": [
              "True"
            ]
          },
          "execution_count": 7,
          "metadata": {},
          "output_type": "execute_result"
        }
      ],
      "source": [
        "import nltk\n",
        "nltk.download('wordnet')\n",
        "nltk.download('averaged_perceptron_tagger')"
      ]
    },
    {
      "cell_type": "code",
      "execution_count": 9,
      "id": "KwsWgx8mENMY",
      "metadata": {
        "colab": {
          "base_uri": "https://localhost:8080/"
        },
        "id": "KwsWgx8mENMY",
        "outputId": "17dfae81-35bc-47c0-f0f8-823da9013c14"
      },
      "outputs": [
        {
          "name": "stderr",
          "output_type": "stream",
          "text": [
            "[nltk_data] Downloading package averaged_perceptron_tagger_eng to\n",
            "[nltk_data]     /root/nltk_data...\n",
            "[nltk_data]   Unzipping taggers/averaged_perceptron_tagger_eng.zip.\n"
          ]
        },
        {
          "data": {
            "text/plain": [
              "True"
            ]
          },
          "execution_count": 9,
          "metadata": {},
          "output_type": "execute_result"
        }
      ],
      "source": [
        "nltk.download('averaged_perceptron_tagger_eng')"
      ]
    },
    {
      "cell_type": "code",
      "execution_count": 10,
      "id": "86441e0c",
      "metadata": {
        "colab": {
          "base_uri": "https://localhost:8080/"
        },
        "id": "86441e0c",
        "outputId": "ff1fea0b-fa1c-4970-e258-1c455ac015d0"
      },
      "outputs": [
        {
          "name": "stdout",
          "output_type": "stream",
          "text": [
            "[('#FollowFriday', 'JJ'), ('@France_Inte', 'NNP'), ('@PKuchly57', 'NNP'), ('@Milipol_Paris', 'NNP'), ('for', 'IN'), ('being', 'VBG'), ('top', 'JJ'), ('engaged', 'VBN'), ('members', 'NNS'), ('in', 'IN'), ('my', 'PRP$'), ('community', 'NN'), ('this', 'DT'), ('week', 'NN'), (':)', 'NN')]\n"
          ]
        }
      ],
      "source": [
        "from nltk.tag import pos_tag\n",
        "tweet_tokens = twitter_samples.tokenized('positive_tweets.json')\n",
        "print(pos_tag(tweet_tokens[0]))"
      ]
    },
    {
      "cell_type": "code",
      "execution_count": 11,
      "id": "6e3f2ff4",
      "metadata": {
        "colab": {
          "base_uri": "https://localhost:8080/"
        },
        "id": "6e3f2ff4",
        "outputId": "08fd09e5-a702-428e-a17c-6298c598c92c"
      },
      "outputs": [
        {
          "name": "stdout",
          "output_type": "stream",
          "text": [
            "['#FollowFriday', '@France_Inte', '@PKuchly57', '@Milipol_Paris', 'for', 'be', 'top', 'engage', 'member', 'in', 'my', 'community', 'this', 'week', ':)']\n"
          ]
        }
      ],
      "source": [
        "\n",
        "from nltk.tag import pos_tag\n",
        "from nltk.stem.wordnet import WordNetLemmatizer\n",
        "\n",
        "def lemmatize_sentence(tokens):\n",
        "    lemmatizer = WordNetLemmatizer()\n",
        "    lemmatized_sentence = []\n",
        "    for word, tag in pos_tag(tokens):\n",
        "        if tag.startswith('NN'):\n",
        "            pos = 'n'\n",
        "        elif tag.startswith('VB'):\n",
        "            pos = 'v'\n",
        "        else:\n",
        "            pos = 'a'\n",
        "        lemmatized_sentence.append(lemmatizer.lemmatize(word, pos))\n",
        "    return lemmatized_sentence\n",
        "\n",
        "print(lemmatize_sentence(tweet_tokens[0]))"
      ]
    },
    {
      "cell_type": "code",
      "execution_count": 12,
      "id": "3cc71299",
      "metadata": {
        "id": "3cc71299"
      },
      "outputs": [],
      "source": [
        "import re, string\n",
        "def remove_noise(tweet_tokens, stop_words = ()):\n",
        "\n",
        "    cleaned_tokens = []\n",
        "\n",
        "    for token, tag in pos_tag(tweet_tokens):\n",
        "        token = re.sub('http[s]?://(?:[a-zA-Z]|[0-9]|[$-_@.&+#]|[!*\\(\\),]|'\\\n",
        "                       '(?:%[0-9a-fA-F][0-9a-fA-F]))+','', token)\n",
        "        token = re.sub(\"(@[A-Za-z0-9_]+)\",\"\", token)\n",
        "\n",
        "        if tag.startswith(\"NN\"):\n",
        "            pos = 'n'\n",
        "        elif tag.startswith('VB'):\n",
        "            pos = 'v'\n",
        "        else:\n",
        "            pos = 'a'\n",
        "\n",
        "        lemmatizer = WordNetLemmatizer()\n",
        "        token = lemmatizer.lemmatize(token, pos)\n",
        "\n",
        "        if len(token) > 0 and token not in string.punctuation and token.lower() not in stop_words:\n",
        "            cleaned_tokens.append(token.lower())\n",
        "    return cleaned_tokens"
      ]
    },
    {
      "cell_type": "code",
      "execution_count": 13,
      "id": "8b971e57",
      "metadata": {
        "colab": {
          "base_uri": "https://localhost:8080/"
        },
        "id": "8b971e57",
        "outputId": "44f91963-d12b-476c-ae86-0113b9ca9edd"
      },
      "outputs": [
        {
          "name": "stderr",
          "output_type": "stream",
          "text": [
            "[nltk_data] Downloading package stopwords to /root/nltk_data...\n",
            "[nltk_data]   Unzipping corpora/stopwords.zip.\n"
          ]
        },
        {
          "data": {
            "text/plain": [
              "True"
            ]
          },
          "execution_count": 13,
          "metadata": {},
          "output_type": "execute_result"
        }
      ],
      "source": [
        "nltk.download('stopwords')"
      ]
    },
    {
      "cell_type": "code",
      "execution_count": 14,
      "id": "f4a1219e",
      "metadata": {
        "colab": {
          "base_uri": "https://localhost:8080/"
        },
        "id": "f4a1219e",
        "outputId": "cb1fcc85-6723-41d2-b363-0e84f989a203"
      },
      "outputs": [
        {
          "name": "stdout",
          "output_type": "stream",
          "text": [
            "['#followfriday', 'top', 'engage', 'member', 'community', 'week', ':)']\n"
          ]
        }
      ],
      "source": [
        "from nltk.corpus import stopwords\n",
        "stop_words = stopwords.words('english')\n",
        "\n",
        "print(remove_noise(tweet_tokens[0], stop_words))\n",
        "\n",
        "positive_tweet_tokens = twitter_samples.tokenized('positive_tweets.json')\n",
        "negative_tweet_tokens = twitter_samples.tokenized('negative_tweets.json')\n",
        "\n",
        "positive_cleaned_tokens_list = []\n",
        "negative_cleaned_tokens_list = []\n",
        "\n",
        "for tokens in positive_tweet_tokens:\n",
        "    positive_cleaned_tokens_list.append(remove_noise(tokens, stop_words))\n",
        "\n",
        "for tokens in negative_tweet_tokens:\n",
        "    negative_cleaned_tokens_list.append(remove_noise(tokens, stop_words))"
      ]
    },
    {
      "cell_type": "code",
      "execution_count": 15,
      "id": "1894dc8c",
      "metadata": {
        "colab": {
          "base_uri": "https://localhost:8080/"
        },
        "id": "1894dc8c",
        "outputId": "6fb106a1-8661-41e9-f167-c5411efd7692"
      },
      "outputs": [
        {
          "name": "stdout",
          "output_type": "stream",
          "text": [
            "['Dang', 'that', 'is', 'some', 'rad', '@AbzuGame', '#fanart', '!', ':D', 'https://t.co/bI8k8tb9ht']\n",
            "['dang', 'rad', '#fanart', ':d']\n"
          ]
        }
      ],
      "source": [
        "print(positive_tweet_tokens[500])\n",
        "print(positive_cleaned_tokens_list[500])"
      ]
    },
    {
      "cell_type": "code",
      "execution_count": 16,
      "id": "95ffcedd",
      "metadata": {
        "id": "95ffcedd"
      },
      "outputs": [],
      "source": [
        "def get_all_words(cleaned_tokens_list):\n",
        "    for tokens in cleaned_tokens_list:\n",
        "        for token in tokens:\n",
        "            yield token\n",
        "\n",
        "all_pos_words = get_all_words(positive_cleaned_tokens_list)"
      ]
    },
    {
      "cell_type": "code",
      "execution_count": 17,
      "id": "6d2c99ed",
      "metadata": {
        "colab": {
          "base_uri": "https://localhost:8080/"
        },
        "id": "6d2c99ed",
        "outputId": "05bd3f79-1601-4453-ee93-1ecb33aa7869"
      },
      "outputs": [
        {
          "name": "stdout",
          "output_type": "stream",
          "text": [
            "[(':)', 3691), (':-)', 701), (':d', 658), ('thanks', 388), ('follow', 357), ('love', 332), ('...', 290), ('good', 283), ('get', 263), ('thank', 253)]\n"
          ]
        }
      ],
      "source": [
        "from nltk import FreqDist\n",
        "\n",
        "freq_dist_pos = FreqDist(all_pos_words)\n",
        "print(freq_dist_pos.most_common(10))"
      ]
    },
    {
      "cell_type": "code",
      "execution_count": 18,
      "id": "7ef02d72",
      "metadata": {
        "id": "7ef02d72"
      },
      "outputs": [],
      "source": [
        "def get_tweets_for_model(cleaned_tokens_list):\n",
        "    for tweet_tokens in cleaned_tokens_list:\n",
        "        yield dict([token, True] for token in tweet_tokens)\n",
        "\n",
        "positive_tokens_for_model = get_tweets_for_model(positive_cleaned_tokens_list)\n",
        "negative_tokens_for_model = get_tweets_for_model(negative_cleaned_tokens_list)"
      ]
    },
    {
      "cell_type": "code",
      "execution_count": 19,
      "id": "d3446451",
      "metadata": {
        "id": "d3446451"
      },
      "outputs": [],
      "source": [
        "import random\n",
        "positive_dataset = [(tweet_dict, \"Positive\")\n",
        "                     for tweet_dict in positive_tokens_for_model]\n",
        "\n",
        "negative_dataset = [(tweet_dict, \"Negative\")\n",
        "                     for tweet_dict in negative_tokens_for_model]\n",
        "\n",
        "dataset = positive_dataset + negative_dataset\n",
        "\n",
        "random.shuffle(dataset)\n",
        "\n",
        "train_data = dataset[:7000]\n",
        "test_data = dataset[7000:]"
      ]
    },
    {
      "cell_type": "code",
      "execution_count": 30,
      "id": "hlp5KPv7RcJM",
      "metadata": {
        "colab": {
          "base_uri": "https://localhost:8080/"
        },
        "id": "hlp5KPv7RcJM",
        "outputId": "87e2b583-651a-4d7d-a098-2b3d9e65d679"
      },
      "outputs": [
        {
          "data": {
            "text/plain": [
              "10000"
            ]
          },
          "execution_count": 30,
          "metadata": {},
          "output_type": "execute_result"
        }
      ],
      "source": [
        "len(dataset)"
      ]
    },
    {
      "cell_type": "code",
      "execution_count": 20,
      "id": "9f484dca",
      "metadata": {
        "colab": {
          "base_uri": "https://localhost:8080/"
        },
        "id": "9f484dca",
        "outputId": "57ecff8d-b708-4c99-f0b0-6cf065cd6504"
      },
      "outputs": [
        {
          "name": "stdout",
          "output_type": "stream",
          "text": [
            "Accuracy is: 0.9956666666666667\n",
            "Most Informative Features\n",
            "                      :( = True           Negati : Positi =   2054.5 : 1.0\n",
            "                     sad = True           Negati : Positi =     34.2 : 1.0\n",
            "                     bam = True           Positi : Negati =     23.7 : 1.0\n",
            "                follower = True           Positi : Negati =     23.0 : 1.0\n",
            "                  arrive = True           Positi : Negati =     19.8 : 1.0\n",
            "                    glad = True           Positi : Negati =     19.0 : 1.0\n",
            "                     x15 = True           Negati : Positi =     15.7 : 1.0\n",
            "                followed = True           Negati : Positi =     15.0 : 1.0\n",
            "                    blog = True           Positi : Negati =     13.7 : 1.0\n",
            "                 welcome = True           Positi : Negati =     13.3 : 1.0\n",
            "None\n"
          ]
        }
      ],
      "source": [
        "from nltk import classify\n",
        "from nltk import NaiveBayesClassifier\n",
        "classifier = NaiveBayesClassifier.train(train_data)\n",
        "\n",
        "print(\"Accuracy is:\", classify.accuracy(classifier, test_data))\n",
        "\n",
        "print(classifier.show_most_informative_features(10))"
      ]
    },
    {
      "cell_type": "code",
      "execution_count": 22,
      "id": "yQ3HkfdsEe7Z",
      "metadata": {
        "colab": {
          "base_uri": "https://localhost:8080/"
        },
        "id": "yQ3HkfdsEe7Z",
        "outputId": "130c8810-45b1-4f86-ba55-d8cd76fb259b"
      },
      "outputs": [
        {
          "name": "stderr",
          "output_type": "stream",
          "text": [
            "[nltk_data] Downloading package punkt_tab to /root/nltk_data...\n",
            "[nltk_data]   Unzipping tokenizers/punkt_tab.zip.\n"
          ]
        },
        {
          "data": {
            "text/plain": [
              "True"
            ]
          },
          "execution_count": 22,
          "metadata": {},
          "output_type": "execute_result"
        }
      ],
      "source": [
        "nltk.download('punkt_tab')"
      ]
    },
    {
      "cell_type": "code",
      "execution_count": 29,
      "id": "EmKeeJXwRFpz",
      "metadata": {
        "colab": {
          "base_uri": "https://localhost:8080/"
        },
        "id": "EmKeeJXwRFpz",
        "outputId": "4effc4de-bf21-4613-821a-9ae20ccdfcec"
      },
      "outputs": [
        {
          "name": "stdout",
          "output_type": "stream",
          "text": [
            "Accuracy: 0.9956666666666667\n",
            "Precision: 0.9956686435696135\n",
            "Recall: 0.9956666666666667\n",
            "F1 Score: 0.9956666594444245\n",
            "\n",
            "Detailed Report:\n",
            "              precision    recall  f1-score   support\n",
            "\n",
            "    Negative       1.00      0.99      1.00      1499\n",
            "    Positive       0.99      1.00      1.00      1501\n",
            "\n",
            "    accuracy                           1.00      3000\n",
            "   macro avg       1.00      1.00      1.00      3000\n",
            "weighted avg       1.00      1.00      1.00      3000\n",
            "\n"
          ]
        }
      ],
      "source": [
        "from sklearn.metrics import accuracy_score, precision_recall_fscore_support, classification_report\n",
        "\n",
        "# Extract features and true labels from test_data\n",
        "X_test = [features for features, label in test_data]\n",
        "y_true = [label for features, label in test_data]\n",
        "\n",
        "# Predict using the trained NLTK classifier\n",
        "y_pred = [classifier.classify(features) for features in X_test]\n",
        "\n",
        "# Print evaluation metrics\n",
        "print(\"Accuracy:\", accuracy_score(y_true, y_pred))\n",
        "\n",
        "precision, recall, f1, _ = precision_recall_fscore_support(y_true, y_pred, average='weighted')\n",
        "print(\"Precision:\", precision)\n",
        "print(\"Recall:\", recall)\n",
        "print(\"F1 Score:\", f1)\n",
        "\n",
        "# Detailed classification report\n",
        "print(\"\\nDetailed Report:\")\n",
        "print(classification_report(y_true, y_pred))\n"
      ]
    },
    {
      "cell_type": "code",
      "execution_count": 23,
      "id": "a5e651cd",
      "metadata": {
        "colab": {
          "base_uri": "https://localhost:8080/"
        },
        "id": "a5e651cd",
        "outputId": "4adc05e1-62c4-470c-c914-c491b68383aa"
      },
      "outputs": [
        {
          "name": "stdout",
          "output_type": "stream",
          "text": [
            "Negative\n"
          ]
        }
      ],
      "source": [
        "from nltk.tokenize import word_tokenize\n",
        "\n",
        "custom_tweet = \"I ordered just once from TerribleCo, they screwed up, never used the app again.\"\n",
        "\n",
        "custom_tokens = remove_noise(word_tokenize(custom_tweet))\n",
        "\n",
        "print(classifier.classify(dict([token, True] for token in custom_tokens)))"
      ]
    },
    {
      "cell_type": "code",
      "execution_count": 24,
      "id": "eefa17aa",
      "metadata": {
        "colab": {
          "base_uri": "https://localhost:8080/"
        },
        "id": "eefa17aa",
        "outputId": "d8f7d513-ddbb-4a5d-c3c0-d95d6df38186"
      },
      "outputs": [
        {
          "name": "stdout",
          "output_type": "stream",
          "text": [
            "Positive\n"
          ]
        }
      ],
      "source": [
        "custom_tweet = 'Congrats #SportStar on your 7th best goal from last season winning goal of the year :) #Baller #Topbin #oneofmanyworldies'\n",
        "custom_tokens = remove_noise(word_tokenize(custom_tweet))\n",
        "\n",
        "print(classifier.classify(dict([token, True] for token in custom_tokens)))\n"
      ]
    },
    {
      "cell_type": "code",
      "execution_count": 25,
      "id": "f47f1259",
      "metadata": {
        "colab": {
          "base_uri": "https://localhost:8080/"
        },
        "id": "f47f1259",
        "outputId": "a42cec80-a863-4ef0-e03f-9b344fa38bc1"
      },
      "outputs": [
        {
          "name": "stdout",
          "output_type": "stream",
          "text": [
            "Positive\n"
          ]
        }
      ],
      "source": [
        "custom_tweet = 'i am going for this anime and i am super excited.'\n",
        "custom_tokens = remove_noise(word_tokenize(custom_tweet))\n",
        "\n",
        "print(classifier.classify(dict([token, True] for token in custom_tokens)))"
      ]
    },
    {
      "cell_type": "code",
      "execution_count": 26,
      "id": "d73388f6",
      "metadata": {
        "colab": {
          "base_uri": "https://localhost:8080/"
        },
        "id": "d73388f6",
        "outputId": "98893e03-f5dc-4667-a2de-9803e359d8dd"
      },
      "outputs": [
        {
          "name": "stdout",
          "output_type": "stream",
          "text": [
            "Negative\n"
          ]
        }
      ],
      "source": [
        "custom_tweet = 'i am bored and i would like to watch a movie'\n",
        "custom_tokens = remove_noise(word_tokenize(custom_tweet))\n",
        "\n",
        "print(classifier.classify(dict([token, True] for token in custom_tokens)))"
      ]
    },
    {
      "cell_type": "code",
      "execution_count": 28,
      "id": "486aefda",
      "metadata": {
        "id": "486aefda"
      },
      "outputs": [],
      "source": [
        "with open(\"naive_bayes_model.pkl\", \"wb\") as f:\n",
        "    pickle.dump(classifier, f)"
      ]
    }
  ],
  "metadata": {
    "colab": {
      "provenance": []
    },
    "kernelspec": {
      "display_name": "Python 3 (ipykernel)",
      "language": "python",
      "name": "python3"
    },
    "language_info": {
      "codemirror_mode": {
        "name": "ipython",
        "version": 3
      },
      "file_extension": ".py",
      "mimetype": "text/x-python",
      "name": "python",
      "nbconvert_exporter": "python",
      "pygments_lexer": "ipython3",
      "version": "3.11.5"
    }
  },
  "nbformat": 4,
  "nbformat_minor": 5
}
